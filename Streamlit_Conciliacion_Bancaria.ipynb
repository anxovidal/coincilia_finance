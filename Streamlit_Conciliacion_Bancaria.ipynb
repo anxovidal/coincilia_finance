{
 "cells": [
  {
   "cell_type": "code",
   "execution_count": 2,
   "id": "a8c2b4ab",
   "metadata": {},
   "outputs": [
    {
     "name": "stderr",
     "output_type": "stream",
     "text": [
      "2023-09-10 19:52:54.361 \n",
      "  \u001b[33m\u001b[1mWarning:\u001b[0m to view this Streamlit app on a browser, run it with the following\n",
      "  command:\n",
      "\n",
      "    streamlit run C:\\Users\\Desarrollos\\anaconda3\\Lib\\site-packages\\ipykernel_launcher.py [ARGUMENTS]\n"
     ]
    }
   ],
   "source": [
    "import pandas as pd\n",
    "import streamlit as st\n",
    "\n",
    "# Función para cargar un archivo CSV o Excel\n",
    "def cargar_archivo(archivo):\n",
    "    if archivo is not None:\n",
    "        if archivo.name.endswith('.csv'):\n",
    "            return pd.read_csv(archivo)\n",
    "        elif archivo.name.endswith(('.xls', '.xlsx')):\n",
    "            return pd.read_excel(archivo, engine='openpyxl')\n",
    "    return None\n",
    "\n",
    "# Función para procesar los archivos y realizar la conciliación bancaria\n",
    "def procesar_archivos(archivo_empresa, archivo_banco):\n",
    "    # Cargar datos en dataframes de pandas\n",
    "    df_empresa = cargar_archivo(archivo_empresa)\n",
    "    df_banco = cargar_archivo(archivo_banco)\n",
    "\n",
    "    if df_empresa is None or df_banco is None:\n",
    "        st.warning(\"Por favor, carga ambos archivos primero.\")\n",
    "        return None\n",
    "\n",
    "    # Limpiar espacios y barras entre columnas\n",
    "    df_empresa.columns = df_empresa.columns.str.strip()\n",
    "    df_banco.columns = df_banco.columns.str.strip()\n",
    "\n",
    "    # Supongamos que df_empresa y df_banco tienen la misma estructura de columnas\n",
    "    # Ambas columnas contienen múltiples valores separados por \"|\"\n",
    "    # Dividimos las columnas en ambas tablas y seleccionamos la columna 'Amount' y 'Date'\n",
    "    df_empresa['Amount'] = df_empresa['Date|Amount|Entered by|Batch|Reference|Description'].str.split('|').str[1].astype(float)\n",
    "    df_empresa['Date'] = df_empresa['Date|Amount|Entered by|Batch|Reference|Description'].str.split('|').str[0]\n",
    "\n",
    "    df_banco['Amount'] = df_banco['Date|Amount|Entered by|Batch|Reference|Description'].str.split('|').str[1].astype(float)\n",
    "    df_banco['Date'] = df_banco['Date|Amount|Entered by|Batch|Reference|Description'].str.split('|').str[0]\n",
    "\n",
    "    # Identificar registros que no coinciden entre los dataframes\n",
    "    registros_no_coinciden = df_empresa[~df_empresa[['Date', 'Amount']].apply(tuple, axis=1).isin(df_banco[['Date', 'Amount']].apply(tuple, axis=1))]\n",
    "\n",
    "    # Imprimir los registros que no coinciden\n",
    "    if registros_no_coinciden.empty:\n",
    "        st.success(\"Todos los importes coinciden. La conciliación bancaria es exitosa.\")\n",
    "    else:\n",
    "        st.warning(\"Registros que no coinciden:\")\n",
    "        st.write(registros_no_coinciden)\n",
    "\n",
    "# Configuración de la aplicación\n",
    "st.title(\"Aplicación de Conciliación Bancaria\")\n",
    "\n",
    "# Cargar archivos CSV o Excel\n",
    "archivo_empresa = st.file_uploader(\"Cargar archivo de empresa (CSV o Excel)\", type=[\"csv\", \"xls\", \"xlsx\"])\n",
    "archivo_banco = st.file_uploader(\"Cargar archivo de banco (CSV o Excel)\", type=[\"csv\", \"xls\", \"xlsx\"])\n",
    "\n",
    "# Realizar la conciliación al presionar un botón\n",
    "if st.button(\"Realizar Conciliación\"):\n",
    "    if archivo_empresa is not None and archivo_banco is not None:\n",
    "        procesar_archivos(archivo_empresa, archivo_banco)\n",
    "    else:\n",
    "        st.warning(\"Por favor, carga ambos archivos primero.\")\n"
   ]
  },
  {
   "cell_type": "code",
   "execution_count": null,
   "id": "bb1b4dfc",
   "metadata": {},
   "outputs": [],
   "source": []
  }
 ],
 "metadata": {
  "kernelspec": {
   "display_name": "Python 3 (ipykernel)",
   "language": "python",
   "name": "python3"
  },
  "language_info": {
   "codemirror_mode": {
    "name": "ipython",
    "version": 3
   },
   "file_extension": ".py",
   "mimetype": "text/x-python",
   "name": "python",
   "nbconvert_exporter": "python",
   "pygments_lexer": "ipython3",
   "version": "3.11.4"
  }
 },
 "nbformat": 4,
 "nbformat_minor": 5
}
